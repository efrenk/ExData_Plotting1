{
  "nbformat": 4,
  "nbformat_minor": 0,
  "metadata": {
    "colab": {
      "name": "Gradient_Descent.ipynb",
      "version": "0.3.2",
      "provenance": [],
      "include_colab_link": true
    },
    "kernelspec": {
      "name": "python3",
      "display_name": "Python 3"
    },
    "accelerator": "GPU"
  },
  "cells": [
    {
      "cell_type": "markdown",
      "metadata": {
        "id": "view-in-github",
        "colab_type": "text"
      },
      "source": [
        "<a href=\"https://colab.research.google.com/github/efrenk/ExData_Plotting1/blob/master/Gradient_Descent.ipynb\" target=\"_parent\"><img src=\"https://colab.research.google.com/assets/colab-badge.svg\" alt=\"Open In Colab\"/></a>"
      ]
    },
    {
      "metadata": {
        "colab_type": "code",
        "id": "O5hinF_BwtTa",
        "outputId": "ae10ff60-56f0-463f-a1cd-011e5a35c96c",
        "colab": {
          "base_uri": "https://localhost:8080/",
          "height": 52
        }
      },
      "cell_type": "code",
      "source": [
        "import torch\n",
        "import numpy as np\n",
        "import matplotlib.pyplot as plt\n",
        "from sklearn.linear_model import LinearRegression\n",
        "\n",
        "device = torch.device(\"cuda:0\" if torch.cuda.is_available() else \"cpu\")\n",
        "print(device)\n",
        "\n",
        "%matplotlib inline\n",
        "torch.manual_seed(0)"
      ],
      "execution_count": 0,
      "outputs": [
        {
          "output_type": "stream",
          "text": [
            "cuda:0\n"
          ],
          "name": "stdout"
        },
        {
          "output_type": "execute_result",
          "data": {
            "text/plain": [
              "<torch._C.Generator at 0x7fd921886310>"
            ]
          },
          "metadata": {
            "tags": []
          },
          "execution_count": 12
        }
      ]
    },
    {
      "metadata": {
        "colab_type": "code",
        "id": "LVd2ATz4xK07",
        "colab": {}
      },
      "cell_type": "code",
      "source": [
        "N = 100\n",
        "x = torch.rand(N,1)*5\n",
        "m = 5.1\n",
        "b = 2.3\n",
        "y = m*x + b\n",
        "# Get some noisy observations\n",
        "std = 2\n",
        "y_obs = y + std*torch.randn(N,1)"
      ],
      "execution_count": 0,
      "outputs": []
    },
    {
      "metadata": {
        "colab_type": "code",
        "id": "xS8DW_SrxsE4",
        "outputId": "291b98fe-72ad-4f5e-cf66-08947f39bfad",
        "colab": {
          "base_uri": "https://localhost:8080/",
          "height": 265
        }
      },
      "cell_type": "code",
      "source": [
        "plt.plot(x.numpy(), y_obs.numpy(), '.', label='Observations')\n",
        "plt.plot(x.numpy(), y.numpy(), label='True function')\n",
        "plt.legend()\n",
        "plt.show()"
      ],
      "execution_count": 0,
      "outputs": [
        {
          "output_type": "display_data",
          "data": {
            "image/png": "[encoded data removed]",
            "text/plain": [
              "<Figure size 432x288 with 1 Axes>"
            ]
          },
          "metadata": {
            "tags": []
          }
        }
      ]
    },
    {
      "metadata": {
        "colab_type": "code",
        "id": "tY8vmhdHzPQh",
        "colab": {}
      },
      "cell_type": "code",
      "source": [
        "w_est = torch.randn(1, requires_grad=True)\n",
        "b_est = torch.randn(1, requires_grad=True)"
      ],
      "execution_count": 0,
      "outputs": []
    },
    {
      "metadata": {
        "id": "gHtB_7FynDwQ",
        "colab_type": "text"
      },
      "cell_type": "markdown",
      "source": [
        "We require a loss function to calculate how good our estimates are. The smaller the loss, the better the estimate. In this case we choose the Mean Squared Error (MSE).\n",
        "\\begin{align}\n",
        "\\mathcal{L} = \\frac{1}{N}\\sum_{i=1}^N (\\hat{y}_i - y_i^{obs})^2\n",
        "\\end{align}\n",
        "where,  $\\hat{y}_i = w_{est} x_i + b_{est}$ is the estimated output. and $y_i^{obs}$ are the observed outputs."
      ]
    },
    {
      "metadata": {
        "colab_type": "code",
        "id": "KKDDMQDt1mjm",
        "colab": {}
      },
      "cell_type": "code",
      "source": [
        "y_pred = w_est * x + b_est\n",
        "L = torch.mean((y_pred-y_obs)**2)"
      ],
      "execution_count": 0,
      "outputs": []
    },
    {
      "metadata": {
        "id": "9R8puAXQmnMl",
        "colab_type": "code",
        "outputId": "104d03cd-e2de-44f3-fca2-d9aea3da6498",
        "colab": {
          "base_uri": "https://localhost:8080/",
          "height": 34
        }
      },
      "cell_type": "code",
      "source": [
        "L"
      ],
      "execution_count": 0,
      "outputs": [
        {
          "output_type": "execute_result",
          "data": {
            "text/plain": [
              "tensor(240.8829, grad_fn=<MeanBackward1>)"
            ]
          },
          "metadata": {
            "tags": []
          },
          "execution_count": 18
        }
      ]
    },
    {
      "metadata": {
        "id": "rllGY0lLpG6p",
        "colab_type": "text"
      },
      "cell_type": "markdown",
      "source": [
        "We can use gradient information to 'guide' us in the direction of minimising the loss. The `.backward()` function will calculate the gradient on any scalar value that was calculated using variables that had `requires_grad=True`. i.e. in our case we will get $\\frac{\\partial \\mathcal{L}}{\\partial w}$ and $\\frac{\\partial \\mathcal{L}}{\\partial b}$."
      ]
    },
    {
      "metadata": {
        "id": "8opypix7mxKv",
        "colab_type": "code",
        "outputId": "989ac51e-02a9-47e6-cc10-4377c633d49a",
        "colab": {
          "base_uri": "https://localhost:8080/",
          "height": 51
        }
      },
      "cell_type": "code",
      "source": [
        "print((w_est.grad, b_est.grad))\n",
        "L.backward()\n",
        "print((w_est.grad, b_est.grad))"
      ],
      "execution_count": 0,
      "outputs": [
        {
          "output_type": "stream",
          "text": [
            "(None, None)\n",
            "(tensor([-87.2228]), tensor([-28.1087]))\n"
          ],
          "name": "stdout"
        }
      ]
    },
    {
      "metadata": {
        "id": "Vn2NqLB1skzq",
        "colab_type": "text"
      },
      "cell_type": "markdown",
      "source": [
        "If you wish to check the above gradients, say for w:\n",
        "\\begin{align}\n",
        "\\frac{\\partial \\mathcal{L}}{\\partial w} &= \\frac{2}{N}\\sum_{i=1}^N (\\hat{y}_i - y_i^{obs}) \\frac{\\partial y_i}{\\partial w} \\\\\n",
        "&= \\frac{2}{N}\\sum_{i=1}^N \\xi_i x_i\n",
        "\\end{align}\n",
        "where $\\xi_i = \\hat{y}_i - y_i^{obs}$ is the error. Plugging the values into this we can see below that the gradients are correct."
      ]
    },
    {
      "metadata": {
        "id": "84DHYuQItj7c",
        "colab_type": "code",
        "outputId": "242b6d6f-2df8-4802-ef7a-a85cd711c49c",
        "colab": {
          "base_uri": "https://localhost:8080/",
          "height": 34
        }
      },
      "cell_type": "code",
      "source": [
        "e = y_pred - y_obs\n",
        "(e * x).mean() * 2"
      ],
      "execution_count": 0,
      "outputs": [
        {
          "output_type": "execute_result",
          "data": {
            "text/plain": [
              "tensor(-87.2228, grad_fn=<MulBackward0>)"
            ]
          },
          "metadata": {
            "tags": []
          },
          "execution_count": 8
        }
      ]
    },
    {
      "metadata": {
        "id": "a4DtLbXgm9L_",
        "colab_type": "text"
      },
      "cell_type": "markdown",
      "source": [
        "Now we can use gradient descent to update our estimates iteratively until we get the optimal values.\n",
        "\\begin{align}\n",
        "w_{new} = w_{old} - \\gamma \\frac{\\partial \\mathcal{L}}{\\partial w_{old}}\n",
        "\\end{align}\n",
        "where $\\gamma$ is the learning rate. It's typically set to small values. We will use $\\gamma=0.1$.\n",
        "\n",
        "Keep in mind that the true values of w and b are 5.1 and 2.3 respectively."
      ]
    },
    {
      "metadata": {
        "id": "63_NbrhYqPl-",
        "colab_type": "code",
        "outputId": "3d546091-07c5-418f-d3bc-603f2989c2ac",
        "colab": {
          "base_uri": "https://localhost:8080/",
          "height": 644
        }
      },
      "cell_type": "code",
      "source": [
        "gamma = 0.1\n",
        "\n",
        "# new starting point\n",
        "w_est = torch.randn(1, requires_grad=True)\n",
        "b_est = torch.randn(1, requires_grad=True)\n",
        "\n",
        "losses = []\n",
        "ws = [w_est]\n",
        "bs = [b_est]\n",
        "w_grad = []\n",
        "\n",
        "for i in range(200):\n",
        "  # calculate new loss function\n",
        "  y_pred = w_est * x + b_est\n",
        "  L = torch.mean((y_pred-y_obs)**2)\n",
        "  \n",
        "  # calculate new gradients\n",
        "  L.backward()\n",
        "  \n",
        "  w_grad.append(w_est.grad)\n",
        "  with torch.no_grad():\n",
        "#     import pdb; pdb.set_trace()\n",
        "    # update parameters\n",
        "    w_est = w_est - gamma * w_est.grad\n",
        "    b_est = b_est - gamma * b_est.grad\n",
        "  \n",
        "  # zero the gradients\n",
        "  w_est.requires_grad_(True)\n",
        "  b_est.requires_grad_(True)\n",
        "  \n",
        "  # save data\n",
        "  ws.append(w_est)\n",
        "  bs.append(b_est)\n",
        "  losses.append(L)\n",
        "  \n",
        "  \n",
        "  "
      ],
      "execution_count": 0,
      "outputs": [
        {
          "output_type": "stream",
          "text": [
            "> <ipython-input-29-09c6479449a4>(24)<module>()\n",
            "-> w_est = w_est - gamma * w_est.grad\n",
            "(Pdb) exit\n"
          ],
          "name": "stdout"
        },
        {
          "output_type": "error",
          "ename": "BdbQuit",
          "evalue": "ignored",
          "traceback": [
            "\u001b[0;31m---------------------------------------------------------------------------\u001b[0m",
            "\u001b[0;31mBdbQuit\u001b[0m                                   Traceback (most recent call last)",
            "\u001b[0;32m<ipython-input-29-09c6479449a4>\u001b[0m in \u001b[0;36m<module>\u001b[0;34m()\u001b[0m\n\u001b[1;32m     22\u001b[0m     \u001b[0;32mimport\u001b[0m \u001b[0mpdb\u001b[0m\u001b[0;34m;\u001b[0m \u001b[0mpdb\u001b[0m\u001b[0;34m.\u001b[0m\u001b[0mset_trace\u001b[0m\u001b[0;34m(\u001b[0m\u001b[0;34m)\u001b[0m\u001b[0;34m\u001b[0m\u001b[0;34m\u001b[0m\u001b[0m\n\u001b[1;32m     23\u001b[0m     \u001b[0;31m# update parameters\u001b[0m\u001b[0;34m\u001b[0m\u001b[0;34m\u001b[0m\u001b[0;34m\u001b[0m\u001b[0m\n\u001b[0;32m---> 24\u001b[0;31m     \u001b[0mw_est\u001b[0m \u001b[0;34m=\u001b[0m \u001b[0mw_est\u001b[0m \u001b[0;34m-\u001b[0m \u001b[0mgamma\u001b[0m \u001b[0;34m*\u001b[0m \u001b[0mw_est\u001b[0m\u001b[0;34m.\u001b[0m\u001b[0mgrad\u001b[0m\u001b[0;34m\u001b[0m\u001b[0;34m\u001b[0m\u001b[0m\n\u001b[0m\u001b[1;32m     25\u001b[0m     \u001b[0mb_est\u001b[0m \u001b[0;34m=\u001b[0m \u001b[0mb_est\u001b[0m \u001b[0;34m-\u001b[0m \u001b[0mgamma\u001b[0m \u001b[0;34m*\u001b[0m \u001b[0mb_est\u001b[0m\u001b[0;34m.\u001b[0m\u001b[0mgrad\u001b[0m\u001b[0;34m\u001b[0m\u001b[0;34m\u001b[0m\u001b[0m\n\u001b[1;32m     26\u001b[0m \u001b[0;34m\u001b[0m\u001b[0m\n",
            "\u001b[0;32m<ipython-input-29-09c6479449a4>\u001b[0m in \u001b[0;36m<module>\u001b[0;34m()\u001b[0m\n\u001b[1;32m     22\u001b[0m     \u001b[0;32mimport\u001b[0m \u001b[0mpdb\u001b[0m\u001b[0;34m;\u001b[0m \u001b[0mpdb\u001b[0m\u001b[0;34m.\u001b[0m\u001b[0mset_trace\u001b[0m\u001b[0;34m(\u001b[0m\u001b[0;34m)\u001b[0m\u001b[0;34m\u001b[0m\u001b[0;34m\u001b[0m\u001b[0m\n\u001b[1;32m     23\u001b[0m     \u001b[0;31m# update parameters\u001b[0m\u001b[0;34m\u001b[0m\u001b[0;34m\u001b[0m\u001b[0;34m\u001b[0m\u001b[0m\n\u001b[0;32m---> 24\u001b[0;31m     \u001b[0mw_est\u001b[0m \u001b[0;34m=\u001b[0m \u001b[0mw_est\u001b[0m \u001b[0;34m-\u001b[0m \u001b[0mgamma\u001b[0m \u001b[0;34m*\u001b[0m \u001b[0mw_est\u001b[0m\u001b[0;34m.\u001b[0m\u001b[0mgrad\u001b[0m\u001b[0;34m\u001b[0m\u001b[0;34m\u001b[0m\u001b[0m\n\u001b[0m\u001b[1;32m     25\u001b[0m     \u001b[0mb_est\u001b[0m \u001b[0;34m=\u001b[0m \u001b[0mb_est\u001b[0m \u001b[0;34m-\u001b[0m \u001b[0mgamma\u001b[0m \u001b[0;34m*\u001b[0m \u001b[0mb_est\u001b[0m\u001b[0;34m.\u001b[0m\u001b[0mgrad\u001b[0m\u001b[0;34m\u001b[0m\u001b[0;34m\u001b[0m\u001b[0m\n\u001b[1;32m     26\u001b[0m \u001b[0;34m\u001b[0m\u001b[0m\n",
            "\u001b[0;32m/usr/lib/python3.6/bdb.py\u001b[0m in \u001b[0;36mtrace_dispatch\u001b[0;34m(self, frame, event, arg)\u001b[0m\n\u001b[1;32m     49\u001b[0m             \u001b[0;32mreturn\u001b[0m \u001b[0;31m# None\u001b[0m\u001b[0;34m\u001b[0m\u001b[0;34m\u001b[0m\u001b[0m\n\u001b[1;32m     50\u001b[0m         \u001b[0;32mif\u001b[0m \u001b[0mevent\u001b[0m \u001b[0;34m==\u001b[0m \u001b[0;34m'line'\u001b[0m\u001b[0;34m:\u001b[0m\u001b[0;34m\u001b[0m\u001b[0;34m\u001b[0m\u001b[0m\n\u001b[0;32m---> 51\u001b[0;31m             \u001b[0;32mreturn\u001b[0m \u001b[0mself\u001b[0m\u001b[0;34m.\u001b[0m\u001b[0mdispatch_line\u001b[0m\u001b[0;34m(\u001b[0m\u001b[0mframe\u001b[0m\u001b[0;34m)\u001b[0m\u001b[0;34m\u001b[0m\u001b[0;34m\u001b[0m\u001b[0m\n\u001b[0m\u001b[1;32m     52\u001b[0m         \u001b[0;32mif\u001b[0m \u001b[0mevent\u001b[0m \u001b[0;34m==\u001b[0m \u001b[0;34m'call'\u001b[0m\u001b[0;34m:\u001b[0m\u001b[0;34m\u001b[0m\u001b[0;34m\u001b[0m\u001b[0m\n\u001b[1;32m     53\u001b[0m             \u001b[0;32mreturn\u001b[0m \u001b[0mself\u001b[0m\u001b[0;34m.\u001b[0m\u001b[0mdispatch_call\u001b[0m\u001b[0;34m(\u001b[0m\u001b[0mframe\u001b[0m\u001b[0;34m,\u001b[0m \u001b[0marg\u001b[0m\u001b[0;34m)\u001b[0m\u001b[0;34m\u001b[0m\u001b[0;34m\u001b[0m\u001b[0m\n",
            "\u001b[0;32m/usr/lib/python3.6/bdb.py\u001b[0m in \u001b[0;36mdispatch_line\u001b[0;34m(self, frame)\u001b[0m\n\u001b[1;32m     68\u001b[0m         \u001b[0;32mif\u001b[0m \u001b[0mself\u001b[0m\u001b[0;34m.\u001b[0m\u001b[0mstop_here\u001b[0m\u001b[0;34m(\u001b[0m\u001b[0mframe\u001b[0m\u001b[0;34m)\u001b[0m \u001b[0;32mor\u001b[0m \u001b[0mself\u001b[0m\u001b[0;34m.\u001b[0m\u001b[0mbreak_here\u001b[0m\u001b[0;34m(\u001b[0m\u001b[0mframe\u001b[0m\u001b[0;34m)\u001b[0m\u001b[0;34m:\u001b[0m\u001b[0;34m\u001b[0m\u001b[0;34m\u001b[0m\u001b[0m\n\u001b[1;32m     69\u001b[0m             \u001b[0mself\u001b[0m\u001b[0;34m.\u001b[0m\u001b[0muser_line\u001b[0m\u001b[0;34m(\u001b[0m\u001b[0mframe\u001b[0m\u001b[0;34m)\u001b[0m\u001b[0;34m\u001b[0m\u001b[0;34m\u001b[0m\u001b[0m\n\u001b[0;32m---> 70\u001b[0;31m             \u001b[0;32mif\u001b[0m \u001b[0mself\u001b[0m\u001b[0;34m.\u001b[0m\u001b[0mquitting\u001b[0m\u001b[0;34m:\u001b[0m \u001b[0;32mraise\u001b[0m \u001b[0mBdbQuit\u001b[0m\u001b[0;34m\u001b[0m\u001b[0;34m\u001b[0m\u001b[0m\n\u001b[0m\u001b[1;32m     71\u001b[0m         \u001b[0;32mreturn\u001b[0m \u001b[0mself\u001b[0m\u001b[0;34m.\u001b[0m\u001b[0mtrace_dispatch\u001b[0m\u001b[0;34m\u001b[0m\u001b[0;34m\u001b[0m\u001b[0m\n\u001b[1;32m     72\u001b[0m \u001b[0;34m\u001b[0m\u001b[0m\n",
            "\u001b[0;31mBdbQuit\u001b[0m: "
          ]
        }
      ]
    },
    {
      "metadata": {
        "id": "kQKoBB8-z2TE",
        "colab_type": "code",
        "outputId": "d452e2e8-4aed-40ec-c979-8ac8302c41d7",
        "colab": {
          "base_uri": "https://localhost:8080/",
          "height": 543
        }
      },
      "cell_type": "code",
      "source": [
        "plt.plot(np.array(torch.tensor(losses)))\n",
        "plt.title('Loss')\n",
        "plt.show()\n",
        "plt.plot(np.array(torch.tensor(ws)), label='w')\n",
        "plt.plot(np.array(torch.tensor(bs)), label='b')\n",
        "plt.legend()\n",
        "plt.title('Paramter Convergence')\n",
        "plt.show()"
      ],
      "execution_count": 0,
      "outputs": [
        {
          "output_type": "display_data",
          "data": {
            "image/png": "[encoded data removed]",
            "text/plain": [
              "<Figure size 432x288 with 1 Axes>"
            ]
          },
          "metadata": {
            "tags": []
          }
        },
        {
          "output_type": "display_data",
          "data": {
            "image/png": "[encoded data removed]",
            "text/plain": [
              "<Figure size 432x288 with 1 Axes>"
            ]
          },
          "metadata": {
            "tags": []
          }
        }
      ]
    },
    {
      "metadata": {
        "id": "RkTtObgZWhS4",
        "colab_type": "code",
        "outputId": "5a172649-29cc-476b-8e59-4eaf192ee414",
        "colab": {
          "base_uri": "https://localhost:8080/",
          "height": 105
        }
      },
      "cell_type": "code",
      "source": [
        "ws[-5:]"
      ],
      "execution_count": 0,
      "outputs": [
        {
          "output_type": "execute_result",
          "data": {
            "text/plain": [
              "[tensor([4.8257], requires_grad=True),\n",
              " tensor([4.8257], requires_grad=True),\n",
              " tensor([4.8257], requires_grad=True),\n",
              " tensor([4.8257], requires_grad=True),\n",
              " tensor([4.8257], requires_grad=True)]"
            ]
          },
          "metadata": {
            "tags": []
          },
          "execution_count": 27
        }
      ]
    },
    {
      "metadata": {
        "id": "m4CDX4i2WiqJ",
        "colab_type": "code",
        "outputId": "55f23002-cd2f-440e-ddcb-6ad6ded234b2",
        "colab": {
          "base_uri": "https://localhost:8080/",
          "height": 105
        }
      },
      "cell_type": "code",
      "source": [
        "bs[-5:]"
      ],
      "execution_count": 0,
      "outputs": [
        {
          "output_type": "execute_result",
          "data": {
            "text/plain": [
              "[tensor([2.9642], requires_grad=True),\n",
              " tensor([2.9642], requires_grad=True),\n",
              " tensor([2.9643], requires_grad=True),\n",
              " tensor([2.9643], requires_grad=True),\n",
              " tensor([2.9643], requires_grad=True)]"
            ]
          },
          "metadata": {
            "tags": []
          },
          "execution_count": 28
        }
      ]
    },
    {
      "metadata": {
        "id": "s-S9WYk-gMXm",
        "colab_type": "code",
        "colab": {}
      },
      "cell_type": "code",
      "source": [
        ""
      ],
      "execution_count": 0,
      "outputs": []
    }
  ]
}